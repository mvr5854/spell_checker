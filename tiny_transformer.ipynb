{
 "cells": [
  {
   "cell_type": "code",
   "execution_count": 1,
   "id": "b1a0aed0",
   "metadata": {},
   "outputs": [],
   "source": [
    "import pandas as pd\n",
    "from collections import Counter\n",
    "from datasets import Dataset\n",
    "\n",
    "import tensorflow as tf\n",
    "from tensorflow.keras.preprocessing.text import Tokenizer\n",
    "from tensorflow.keras.preprocessing.sequence import pad_sequences"
   ]
  },
  {
   "cell_type": "code",
   "execution_count": 2,
   "id": "37a41fff",
   "metadata": {},
   "outputs": [],
   "source": [
    "def load_data(file_path, col_name=None):\n",
    "    return pd.read_csv(file_path, sep=r'\\n', header=None, names=[col_name], engine='python')\n",
    "\n",
    "noisy_train_df = load_data('data/gtc/train.tok.fr.txt', 'noisy_text')\n",
    "noisy_test_df = load_data('data/gtc/dev.tok.fr.txt', 'noisy_text')\n",
    "\n",
    "clean_train_df = load_data('data/gtc/train.tok.en.txt', 'clean_text')\n",
    "clean_test_df = load_data('data/gtc/dev.tok.en.txt', 'clean_text')"
   ]
  },
  {
   "cell_type": "code",
   "execution_count": 3,
   "id": "322ee14b",
   "metadata": {},
   "outputs": [
    {
     "name": "stdout",
     "output_type": "stream",
     "text": [
      "                                          noisy_text\n",
      "0  I n s t a l l ▁ B o c l o u d ▁ B e y o n d C ...\n",
      "1  # # ▁ i s t a n b u l ▁ i g n o r e ▁ n e x t ...\n",
      "2  # # ▁ v a r i a b l e s ▁ t o ▁ c a l c u r a ...\n",
      "3  # ▁ o f ▁ t h e ▁ b e a n ▁ w h i c h ▁ t h ▁ ...\n",
      "4  A s ▁ m y ▁ O S S ▁ t i m e ▁ b u d g e d ▁ i ...\n",
      "5  # h 4 # S a n ▁ L o u i s ▁ O b i s p o , ▁ C ...\n",
      "6  # # ▁ M a n a g e m e n t G r o u p I d s ▁ - ...\n",
      "7  # p # Y o u r ▁ S S L ▁ c o n f i g u r a t i ...\n",
      "8  h t t p # # # m i r r o r - 1 . t r u e n e t ...\n",
      "9  # # ▁ M a k e ▁ H O M E - v a r i a b l e ▁ c ...\n",
      "Number of rows: 60576\n",
      "\n",
      "Most common tokens:\n",
      "Token: ' t h e ', Frequency: 44268\n",
      "Token: ' t o ', Frequency: 25849\n",
      "Token: ' a ', Frequency: 19234\n",
      "Token: ' a n d ', Frequency: 15136\n",
      "Token: ' o f ', Frequency: 14561\n",
      "Token: ' i s ', Frequency: 14140\n",
      "Token: '# ', Frequency: 10897\n",
      "Token: ' i n ', Frequency: 10485\n",
      "Token: ' f o r ', Frequency: 9419\n",
      "Token: ' b e ', Frequency: 7746\n",
      "\n",
      "             lenght      word_cnt      hash_cnt\n",
      "count  60576.000000  60576.000000  60576.000000\n",
      "mean     187.299359     14.527371      3.727499\n",
      "std      168.984573     13.129973      4.567937\n",
      "min        5.000000      1.000000      0.000000\n",
      "25%       91.000000      7.000000      1.000000\n",
      "50%      141.000000     12.000000      2.000000\n",
      "75%      203.000000     16.000000      5.000000\n",
      "max     1023.000000     93.000000     70.000000\n"
     ]
    },
    {
     "data": {
      "image/png": "[encoded data removed]",
      "text/plain": [
       "<Figure size 640x480 with 4 Axes>"
      ]
     },
     "metadata": {},
     "output_type": "display_data"
    }
   ],
   "source": [
    "def explore_data(df):\n",
    "    # Display a sample of 10 rows from the DataFrame\n",
    "    print(df.sample(10, random_state=42).reset_index(drop=True))\n",
    "    print(f\"Number of rows: {len(df)}\")\n",
    "\n",
    "    # Display top 10 most common tokens\n",
    "    col = df.columns[0]\n",
    "    tok_freq = Counter(tok for row in df[col] for tok in row.split('▁'))\n",
    "    print(\"\\nMost common tokens:\")\n",
    "    for tok, freq in tok_freq.most_common(10):\n",
    "        print(f\"Token: '{tok}', Frequency: {freq}\")\n",
    "\n",
    "    stats = pd.DataFrame()\n",
    "    stats['lenght'] = df[col].str.len()\n",
    "    stats['word_cnt'] = df[col].str.split('▁').apply(len)\n",
    "    stats['hash_cnt'] = df[col].str.count('#')\n",
    "\n",
    "    print(f\"\\n{stats.describe()}\")\n",
    "    stats.hist(bins=50)\n",
    "\n",
    "subset_size = int(len(noisy_train_df) // 4)\n",
    "noisy_train_df = noisy_train_df.iloc[:subset_size]\n",
    "clean_train_df = clean_train_df.iloc[:subset_size]\n",
    "explore_data(noisy_train_df)"
   ]
  },
  {
   "cell_type": "code",
   "execution_count": 4,
   "id": "8ded8cfa",
   "metadata": {},
   "outputs": [
    {
     "name": "stdout",
     "output_type": "stream",
     "text": [
      "                                          clean_text\n",
      "0  # - # r e a l l y ▁ m e s s e d ▁ u p ▁ s c r ...\n",
      "1  b e ▁ c o n s i d e r e d ▁ e x p e r i m e n ...\n",
      "2  I f ▁ y o u ▁ a r e ▁ u s i n g ▁ G i t b u c ...\n",
      "3  t h e ▁ b e s t ▁ w a y ▁ t o ▁ d o ▁ t h a t ...\n",
      "4  I t ▁ t a k e s ▁ a n ▁ a r r a y ▁ a n d ▁ c ...\n",
      "5          p u s h b u l l e t a l e r t # # o f f #\n",
      "6  T h i s ▁ t o o l ▁ i m p l e m e n t s ▁ i d ...\n",
      "7  H o w e v e r , ▁ i n ▁ a ▁ m i c r o s e r v ...\n",
      "8  # # ▁ i t ▁ m u s t n t ▁ b r e a k ▁ i f ▁ t ...\n",
      "9  # ▁ t h e ▁ n o t i f i c a t i o n ▁ # u s e ...\n",
      "Number of rows: 12752\n",
      "\n",
      "Most common tokens:\n",
      "Token: ' t h e ', Frequency: 9272\n",
      "Token: ' t o ', Frequency: 5418\n",
      "Token: ' a ', Frequency: 4054\n",
      "Token: ' a n d ', Frequency: 3183\n",
      "Token: ' o f ', Frequency: 3134\n",
      "Token: ' i s ', Frequency: 2973\n",
      "Token: '# ', Frequency: 2232\n",
      "Token: ' i n ', Frequency: 2201\n",
      "Token: ' f o r ', Frequency: 1977\n",
      "Token: ' b e ', Frequency: 1694\n",
      "\n",
      "             lenght      word_cnt      hash_cnt\n",
      "count  12752.000000  12752.000000  12752.000000\n",
      "mean     189.240590     14.653937      3.840809\n",
      "std      172.102617     13.306377      4.718994\n",
      "min        7.000000      1.000000      0.000000\n",
      "25%       91.000000      7.000000      1.000000\n",
      "50%      141.000000     11.000000      2.000000\n",
      "75%      205.000000     16.000000      5.000000\n",
      "max     1023.000000     98.000000     53.000000\n"
     ]
    },
    {
     "data": {
      "image/png": "[encoded data removed]",
      "text/plain": [
       "<Figure size 640x480 with 4 Axes>"
      ]
     },
     "metadata": {},
     "output_type": "display_data"
    }
   ],
   "source": [
    "explore_data(clean_test_df)"
   ]
  },
  {
   "cell_type": "code",
   "execution_count": 5,
   "id": "464772f2",
   "metadata": {},
   "outputs": [
    {
     "name": "stdout",
     "output_type": "stream",
     "text": [
      "Vocabulary size: 129013\n"
     ]
    }
   ],
   "source": [
    "tokenizer = Tokenizer(filters='', split='▁', oov_token='<unk>', lower=False)\n",
    "tokenizer.fit_on_texts(\n",
    "    noisy_train_df['noisy_text'].tolist() +\n",
    "    clean_train_df['clean_text'].tolist()\n",
    ")\n",
    "\n",
    "start_token = '<start>'\n",
    "end_token = '<end>'\n",
    "\n",
    "tokenizer.word_index[start_token] = len(tokenizer.word_index) + 1\n",
    "tokenizer.word_index[end_token] = len(tokenizer.word_index) + 1\n",
    "\n",
    "vocab_size = len(tokenizer.word_index) + 1\n",
    "print(f\"Vocabulary size: {vocab_size}\")"
   ]
  },
  {
   "cell_type": "code",
   "execution_count": 6,
   "id": "72ff3eb4",
   "metadata": {},
   "outputs": [],
   "source": [
    "def encode_texts(texts, add_start_end=True):\n",
    "    seqs = tokenizer.texts_to_sequences(texts)\n",
    "    if not add_start_end:\n",
    "        return seqs\n",
    "    out = []\n",
    "    for s in seqs:\n",
    "        out.append([tokenizer.word_index[start_token]] + s + [tokenizer.word_index[end_token]])\n",
    "    return out\n",
    "\n",
    "train_src_seqs = encode_texts(noisy_train_df['noisy_text'], add_start_end=False)\n",
    "train_tgt_seqs = encode_texts(clean_train_df['clean_text'], add_start_end=True)\n",
    "\n",
    "test_src_seqs  = encode_texts(noisy_test_df['noisy_text'],  add_start_end=False)\n",
    "test_tgt_seqs  = encode_texts(clean_test_df['clean_text'],  add_start_end=True)"
   ]
  },
  {
   "cell_type": "code",
   "execution_count": 7,
   "id": "cd8561ba",
   "metadata": {},
   "outputs": [],
   "source": [
    "MAX_SEQ_LEN = 60\n",
    "\n",
    "train_src = pad_sequences(train_src_seqs, maxlen=MAX_SEQ_LEN, padding='post')\n",
    "train_tgt = pad_sequences(train_tgt_seqs, maxlen=MAX_SEQ_LEN, padding='post')\n",
    "test_src = pad_sequences(test_src_seqs,  maxlen=MAX_SEQ_LEN, padding='post')\n",
    "test_tgt = pad_sequences(test_tgt_seqs,  maxlen=MAX_SEQ_LEN, padding='post')\n",
    "\n",
    "train_dec_in  = train_tgt[:, :-1]\n",
    "train_dec_out = train_tgt[:, 1:]\n",
    "test_dec_in   = test_tgt[:, :-1]\n",
    "test_dec_out  = test_tgt[:, 1:]"
   ]
  },
  {
   "cell_type": "code",
   "execution_count": 8,
   "id": "3e6dab62",
   "metadata": {},
   "outputs": [],
   "source": [
    "BATCH_SIZE = 64\n",
    "BUFFER_SIZE = len(train_src)\n",
    "\n",
    "train_dataset = tf.data.Dataset.from_tensor_slices(\n",
    "    ((train_src, train_dec_in), train_dec_out)\n",
    ").shuffle(BUFFER_SIZE).batch(BATCH_SIZE).prefetch(tf.data.AUTOTUNE)\n",
    "\n",
    "val_dataset = tf.data.Dataset.from_tensor_slices(\n",
    "    ((test_src, test_dec_in), test_dec_out)\n",
    ").batch(BATCH_SIZE).prefetch(tf.data.AUTOTUNE)"
   ]
  },
  {
   "cell_type": "code",
   "execution_count": 9,
   "id": "10506ce7",
   "metadata": {},
   "outputs": [],
   "source": [
    "class TokenAndPositionEmbedding(tf.keras.layers.Layer):\n",
    "    def __init__(self, maxlen, vocab_size, embed_dim):\n",
    "        super().__init__()\n",
    "        self.token_emb = tf.keras.layers.Embedding(input_dim=vocab_size, output_dim=embed_dim)\n",
    "        self.pos_emb   = tf.keras.layers.Embedding(input_dim=maxlen, output_dim=embed_dim)\n",
    "    def call(self, x):\n",
    "        seq_len = tf.shape(x)[-1]\n",
    "        positions = tf.range(start=0, limit=seq_len, delta=1)\n",
    "        positions = self.pos_emb(positions)\n",
    "        x = self.token_emb(x)\n",
    "        return x + positions"
   ]
  },
  {
   "cell_type": "code",
   "execution_count": 10,
   "id": "f1e9a046",
   "metadata": {},
   "outputs": [],
   "source": [
    "class EncoderBlock(tf.keras.layers.Layer):\n",
    "    def __init__(self, d_model, num_heads, d_ff, dropout=0.1):\n",
    "        super().__init__()\n",
    "        self.attn = tf.keras.layers.MultiHeadAttention(num_heads=num_heads, key_dim=d_model)\n",
    "        self.ffn = tf.keras.Sequential([\n",
    "            tf.keras.layers.Dense(d_ff, activation=\"relu\"),\n",
    "            tf.keras.layers.Dense(d_model),\n",
    "        ])\n",
    "        self.norm1 = tf.keras.layers.LayerNormalization(epsilon=1e-6)\n",
    "        self.norm2 = tf.keras.layers.LayerNormalization(epsilon=1e-6)\n",
    "        self.drop1 = tf.keras.layers.Dropout(dropout)\n",
    "        self.drop2 = tf.keras.layers.Dropout(dropout)\n",
    "\n",
    "    def call(self, x, training):\n",
    "        # self-attention\n",
    "        attn_out = self.attn(x, x)\n",
    "        attn_out = self.drop1(attn_out, training=training)\n",
    "        x1 = self.norm1(x + attn_out)\n",
    "        # feed-forward\n",
    "        ffn_out = self.ffn(x1)\n",
    "        ffn_out = self.drop2(ffn_out, training=training)\n",
    "        return self.norm2(x1 + ffn_out)"
   ]
  },
  {
   "cell_type": "code",
   "execution_count": 11,
   "id": "79da2ff0",
   "metadata": {},
   "outputs": [],
   "source": [
    "class DecoderBlock(tf.keras.layers.Layer):\n",
    "    def __init__(self, d_model, num_heads, d_ff, dropout=0.1):\n",
    "        super().__init__()\n",
    "        self.self_attn = tf.keras.layers.MultiHeadAttention(num_heads=num_heads, key_dim=d_model)\n",
    "        self.cross_attn = tf.keras.layers.MultiHeadAttention(num_heads=num_heads, key_dim=d_model)\n",
    "        self.ffn = tf.keras.Sequential([\n",
    "            tf.keras.layers.Dense(d_ff, activation=\"relu\"),\n",
    "            tf.keras.layers.Dense(d_model),\n",
    "        ])\n",
    "        self.norm1 = tf.keras.layers.LayerNormalization(epsilon=1e-6)\n",
    "        self.norm2 = tf.keras.layers.LayerNormalization(epsilon=1e-6)\n",
    "        self.norm3 = tf.keras.layers.LayerNormalization(epsilon=1e-6)\n",
    "        self.drop1 = tf.keras.layers.Dropout(dropout)\n",
    "        self.drop2 = tf.keras.layers.Dropout(dropout)\n",
    "        self.drop3 = tf.keras.layers.Dropout(dropout)\n",
    "\n",
    "    def call(self, x, enc_output, training, look_ahead_mask=None):\n",
    "        # 1) masked self-attention\n",
    "        att1 = self.self_attn(x, x, attention_mask=look_ahead_mask)\n",
    "        att1 = self.drop1(att1, training=training)\n",
    "        x1 = self.norm1(x + att1)\n",
    "\n",
    "        # 2) cross-attention to encoder output\n",
    "        att2 = self.cross_attn(x1, enc_output)\n",
    "        att2 = self.drop2(att2, training=training)\n",
    "        x2 = self.norm2(x1 + att2)\n",
    "\n",
    "        # 3) feed-forward\n",
    "        ffn_out = self.ffn(x2)\n",
    "        ffn_out = self.drop3(ffn_out, training=training)\n",
    "        return self.norm3(x2 + ffn_out)"
   ]
  },
  {
   "cell_type": "code",
   "execution_count": 12,
   "id": "c016a945",
   "metadata": {},
   "outputs": [],
   "source": [
    "def create_look_ahead_mask(seq_len):\n",
    "    return 1 - tf.linalg.band_part(tf.ones((seq_len, seq_len)), -1, 0)\n",
    "\n",
    "def build_seq2seq_transformer(src_vocab_size,tgt_vocab_size,max_seq_len,\n",
    "    d_model=32, num_heads=2, d_ff=128, num_layers=1, dropout=0.1):\n",
    "\n",
    "    src_inputs = tf.keras.Input(shape=(max_seq_len,), name=\"source\")\n",
    "    tgt_inputs = tf.keras.Input(shape=(max_seq_len-1,), name=\"target\")\n",
    "\n",
    "    # Embeddings\n",
    "    src_emb = TokenAndPositionEmbedding(max_seq_len, src_vocab_size, d_model)(src_inputs)\n",
    "    tgt_emb = TokenAndPositionEmbedding(max_seq_len-1, tgt_vocab_size, d_model)(tgt_inputs)\n",
    "\n",
    "    # Encoder stack\n",
    "    x = src_emb\n",
    "    for _ in range(num_layers):\n",
    "        x = EncoderBlock(d_model, num_heads, d_ff, dropout)(x, training=True)\n",
    "    enc_output = x  # (batch, src_len, d_model)\n",
    "\n",
    "    # Prepare look-ahead mask for decoder\n",
    "    look_ahead = create_look_ahead_mask(max_seq_len-1)\n",
    "    # expand dims to [batch, heads, tgt_len, tgt_len] when called in block\n",
    "\n",
    "    # Decoder stack\n",
    "    y = tgt_emb\n",
    "    for _ in range(num_layers):\n",
    "        y = DecoderBlock(d_model, num_heads, d_ff, dropout)(\n",
    "                y,\n",
    "                enc_output,\n",
    "                training=True,\n",
    "                look_ahead_mask=tf.expand_dims(tf.expand_dims(look_ahead, 0), 1)\n",
    "            )\n",
    "\n",
    "    # Final linear + softmax projection\n",
    "    outputs = tf.keras.layers.Dense(tgt_vocab_size, activation=\"softmax\")(y)\n",
    "\n",
    "    return tf.keras.Model(inputs=[src_inputs, tgt_inputs], outputs=outputs)"
   ]
  },
  {
   "cell_type": "code",
   "execution_count": 13,
   "id": "5d2530e2",
   "metadata": {},
   "outputs": [
    {
     "name": "stdout",
     "output_type": "stream",
     "text": [
      "WARNING:tensorflow:From c:\\Users\\Mahfuzur\\.conda\\envs\\nb-env\\lib\\site-packages\\keras\\src\\backend\\tensorflow\\core.py:232: The name tf.placeholder is deprecated. Please use tf.compat.v1.placeholder instead.\n",
      "\n"
     ]
    },
    {
     "data": {
      "text/html": [
       "<pre style=\"white-space:pre;overflow-x:auto;line-height:normal;font-family:Menlo,'DejaVu Sans Mono',consolas,'Courier New',monospace\"><span style=\"font-weight: bold\">Model: \"functional_2\"</span>\n",
       "</pre>\n"
      ],
      "text/plain": [
       "\u001b[1mModel: \"functional_2\"\u001b[0m\n"
      ]
     },
     "metadata": {},
     "output_type": "display_data"
    },
    {
     "data": {
      "text/html": [
       "<pre style=\"white-space:pre;overflow-x:auto;line-height:normal;font-family:Menlo,'DejaVu Sans Mono',consolas,'Courier New',monospace\">┏━━━━━━━━━━━━━━━━━━━━━┳━━━━━━━━━━━━━━━━━━━┳━━━━━━━━━━━━┳━━━━━━━━━━━━━━━━━━━┓\n",
       "┃<span style=\"font-weight: bold\"> Layer (type)        </span>┃<span style=\"font-weight: bold\"> Output Shape      </span>┃<span style=\"font-weight: bold\">    Param # </span>┃<span style=\"font-weight: bold\"> Connected to      </span>┃\n",
       "┡━━━━━━━━━━━━━━━━━━━━━╇━━━━━━━━━━━━━━━━━━━╇━━━━━━━━━━━━╇━━━━━━━━━━━━━━━━━━━┩\n",
       "│ source (<span style=\"color: #0087ff; text-decoration-color: #0087ff\">InputLayer</span>) │ (<span style=\"color: #00d7ff; text-decoration-color: #00d7ff\">None</span>, <span style=\"color: #00af00; text-decoration-color: #00af00\">60</span>)        │          <span style=\"color: #00af00; text-decoration-color: #00af00\">0</span> │ -                 │\n",
       "├─────────────────────┼───────────────────┼────────────┼───────────────────┤\n",
       "│ target (<span style=\"color: #0087ff; text-decoration-color: #0087ff\">InputLayer</span>) │ (<span style=\"color: #00d7ff; text-decoration-color: #00d7ff\">None</span>, <span style=\"color: #00af00; text-decoration-color: #00af00\">59</span>)        │          <span style=\"color: #00af00; text-decoration-color: #00af00\">0</span> │ -                 │\n",
       "├─────────────────────┼───────────────────┼────────────┼───────────────────┤\n",
       "│ token_and_position… │ (<span style=\"color: #00d7ff; text-decoration-color: #00d7ff\">None</span>, <span style=\"color: #00af00; text-decoration-color: #00af00\">60</span>, <span style=\"color: #00af00; text-decoration-color: #00af00\">32</span>)    │  <span style=\"color: #00af00; text-decoration-color: #00af00\">4,130,336</span> │ source[<span style=\"color: #00af00; text-decoration-color: #00af00\">0</span>][<span style=\"color: #00af00; text-decoration-color: #00af00\">0</span>]      │\n",
       "│ (<span style=\"color: #0087ff; text-decoration-color: #0087ff\">TokenAndPositionE…</span> │                   │            │                   │\n",
       "├─────────────────────┼───────────────────┼────────────┼───────────────────┤\n",
       "│ token_and_position… │ (<span style=\"color: #00d7ff; text-decoration-color: #00d7ff\">None</span>, <span style=\"color: #00af00; text-decoration-color: #00af00\">59</span>, <span style=\"color: #00af00; text-decoration-color: #00af00\">32</span>)    │  <span style=\"color: #00af00; text-decoration-color: #00af00\">4,130,304</span> │ target[<span style=\"color: #00af00; text-decoration-color: #00af00\">0</span>][<span style=\"color: #00af00; text-decoration-color: #00af00\">0</span>]      │\n",
       "│ (<span style=\"color: #0087ff; text-decoration-color: #0087ff\">TokenAndPositionE…</span> │                   │            │                   │\n",
       "├─────────────────────┼───────────────────┼────────────┼───────────────────┤\n",
       "│ encoder_block       │ (<span style=\"color: #00d7ff; text-decoration-color: #00d7ff\">None</span>, <span style=\"color: #00af00; text-decoration-color: #00af00\">60</span>, <span style=\"color: #00af00; text-decoration-color: #00af00\">32</span>)    │     <span style=\"color: #00af00; text-decoration-color: #00af00\">16,896</span> │ token_and_positi… │\n",
       "│ (<span style=\"color: #0087ff; text-decoration-color: #0087ff\">EncoderBlock</span>)      │                   │            │                   │\n",
       "├─────────────────────┼───────────────────┼────────────┼───────────────────┤\n",
       "│ decoder_block       │ (<span style=\"color: #00d7ff; text-decoration-color: #00d7ff\">None</span>, <span style=\"color: #00af00; text-decoration-color: #00af00\">59</span>, <span style=\"color: #00af00; text-decoration-color: #00af00\">32</span>)    │     <span style=\"color: #00af00; text-decoration-color: #00af00\">25,376</span> │ token_and_positi… │\n",
       "│ (<span style=\"color: #0087ff; text-decoration-color: #0087ff\">DecoderBlock</span>)      │                   │            │ encoder_block[<span style=\"color: #00af00; text-decoration-color: #00af00\">0</span>]… │\n",
       "├─────────────────────┼───────────────────┼────────────┼───────────────────┤\n",
       "│ dense_4 (<span style=\"color: #0087ff; text-decoration-color: #0087ff\">Dense</span>)     │ (<span style=\"color: #00d7ff; text-decoration-color: #00d7ff\">None</span>, <span style=\"color: #00af00; text-decoration-color: #00af00\">59</span>,        │  <span style=\"color: #00af00; text-decoration-color: #00af00\">4,257,429</span> │ decoder_block[<span style=\"color: #00af00; text-decoration-color: #00af00\">0</span>]… │\n",
       "│                     │ <span style=\"color: #00af00; text-decoration-color: #00af00\">129013</span>)           │            │                   │\n",
       "└─────────────────────┴───────────────────┴────────────┴───────────────────┘\n",
       "</pre>\n"
      ],
      "text/plain": [
       "┏━━━━━━━━━━━━━━━━━━━━━┳━━━━━━━━━━━━━━━━━━━┳━━━━━━━━━━━━┳━━━━━━━━━━━━━━━━━━━┓\n",
       "┃\u001b[1m \u001b[0m\u001b[1mLayer (type)       \u001b[0m\u001b[1m \u001b[0m┃\u001b[1m \u001b[0m\u001b[1mOutput Shape     \u001b[0m\u001b[1m \u001b[0m┃\u001b[1m \u001b[0m\u001b[1m   Param #\u001b[0m\u001b[1m \u001b[0m┃\u001b[1m \u001b[0m\u001b[1mConnected to     \u001b[0m\u001b[1m \u001b[0m┃\n",
       "┡━━━━━━━━━━━━━━━━━━━━━╇━━━━━━━━━━━━━━━━━━━╇━━━━━━━━━━━━╇━━━━━━━━━━━━━━━━━━━┩\n",
       "│ source (\u001b[38;5;33mInputLayer\u001b[0m) │ (\u001b[38;5;45mNone\u001b[0m, \u001b[38;5;34m60\u001b[0m)        │          \u001b[38;5;34m0\u001b[0m │ -                 │\n",
       "├─────────────────────┼───────────────────┼────────────┼───────────────────┤\n",
       "│ target (\u001b[38;5;33mInputLayer\u001b[0m) │ (\u001b[38;5;45mNone\u001b[0m, \u001b[38;5;34m59\u001b[0m)        │          \u001b[38;5;34m0\u001b[0m │ -                 │\n",
       "├─────────────────────┼───────────────────┼────────────┼───────────────────┤\n",
       "│ token_and_position… │ (\u001b[38;5;45mNone\u001b[0m, \u001b[38;5;34m60\u001b[0m, \u001b[38;5;34m32\u001b[0m)    │  \u001b[38;5;34m4,130,336\u001b[0m │ source[\u001b[38;5;34m0\u001b[0m][\u001b[38;5;34m0\u001b[0m]      │\n",
       "│ (\u001b[38;5;33mTokenAndPositionE…\u001b[0m │                   │            │                   │\n",
       "├─────────────────────┼───────────────────┼────────────┼───────────────────┤\n",
       "│ token_and_position… │ (\u001b[38;5;45mNone\u001b[0m, \u001b[38;5;34m59\u001b[0m, \u001b[38;5;34m32\u001b[0m)    │  \u001b[38;5;34m4,130,304\u001b[0m │ target[\u001b[38;5;34m0\u001b[0m][\u001b[38;5;34m0\u001b[0m]      │\n",
       "│ (\u001b[38;5;33mTokenAndPositionE…\u001b[0m │                   │            │                   │\n",
       "├─────────────────────┼───────────────────┼────────────┼───────────────────┤\n",
       "│ encoder_block       │ (\u001b[38;5;45mNone\u001b[0m, \u001b[38;5;34m60\u001b[0m, \u001b[38;5;34m32\u001b[0m)    │     \u001b[38;5;34m16,896\u001b[0m │ token_and_positi… │\n",
       "│ (\u001b[38;5;33mEncoderBlock\u001b[0m)      │                   │            │                   │\n",
       "├─────────────────────┼───────────────────┼────────────┼───────────────────┤\n",
       "│ decoder_block       │ (\u001b[38;5;45mNone\u001b[0m, \u001b[38;5;34m59\u001b[0m, \u001b[38;5;34m32\u001b[0m)    │     \u001b[38;5;34m25,376\u001b[0m │ token_and_positi… │\n",
       "│ (\u001b[38;5;33mDecoderBlock\u001b[0m)      │                   │            │ encoder_block[\u001b[38;5;34m0\u001b[0m]… │\n",
       "├─────────────────────┼───────────────────┼────────────┼───────────────────┤\n",
       "│ dense_4 (\u001b[38;5;33mDense\u001b[0m)     │ (\u001b[38;5;45mNone\u001b[0m, \u001b[38;5;34m59\u001b[0m,        │  \u001b[38;5;34m4,257,429\u001b[0m │ decoder_block[\u001b[38;5;34m0\u001b[0m]… │\n",
       "│                     │ \u001b[38;5;34m129013\u001b[0m)           │            │                   │\n",
       "└─────────────────────┴───────────────────┴────────────┴───────────────────┘\n"
      ]
     },
     "metadata": {},
     "output_type": "display_data"
    },
    {
     "data": {
      "text/html": [
       "<pre style=\"white-space:pre;overflow-x:auto;line-height:normal;font-family:Menlo,'DejaVu Sans Mono',consolas,'Courier New',monospace\"><span style=\"font-weight: bold\"> Total params: </span><span style=\"color: #00af00; text-decoration-color: #00af00\">12,560,341</span> (47.91 MB)\n",
       "</pre>\n"
      ],
      "text/plain": [
       "\u001b[1m Total params: \u001b[0m\u001b[38;5;34m12,560,341\u001b[0m (47.91 MB)\n"
      ]
     },
     "metadata": {},
     "output_type": "display_data"
    },
    {
     "data": {
      "text/html": [
       "<pre style=\"white-space:pre;overflow-x:auto;line-height:normal;font-family:Menlo,'DejaVu Sans Mono',consolas,'Courier New',monospace\"><span style=\"font-weight: bold\"> Trainable params: </span><span style=\"color: #00af00; text-decoration-color: #00af00\">12,560,341</span> (47.91 MB)\n",
       "</pre>\n"
      ],
      "text/plain": [
       "\u001b[1m Trainable params: \u001b[0m\u001b[38;5;34m12,560,341\u001b[0m (47.91 MB)\n"
      ]
     },
     "metadata": {},
     "output_type": "display_data"
    },
    {
     "data": {
      "text/html": [
       "<pre style=\"white-space:pre;overflow-x:auto;line-height:normal;font-family:Menlo,'DejaVu Sans Mono',consolas,'Courier New',monospace\"><span style=\"font-weight: bold\"> Non-trainable params: </span><span style=\"color: #00af00; text-decoration-color: #00af00\">0</span> (0.00 B)\n",
       "</pre>\n"
      ],
      "text/plain": [
       "\u001b[1m Non-trainable params: \u001b[0m\u001b[38;5;34m0\u001b[0m (0.00 B)\n"
      ]
     },
     "metadata": {},
     "output_type": "display_data"
    }
   ],
   "source": [
    "model = build_seq2seq_transformer(\n",
    "    src_vocab_size=vocab_size,\n",
    "    tgt_vocab_size=vocab_size,\n",
    "    max_seq_len=MAX_SEQ_LEN,\n",
    ")\n",
    "\n",
    "model.compile(\n",
    "    optimizer=\"adam\",\n",
    "    loss=\"sparse_categorical_crossentropy\",\n",
    "    metrics=[\"accuracy\"]\n",
    ")\n",
    "model.summary()"
   ]
  },
  {
   "cell_type": "code",
   "execution_count": 14,
   "id": "dcd8cfb1",
   "metadata": {},
   "outputs": [
    {
     "name": "stdout",
     "output_type": "stream",
     "text": [
      "Epoch 1/10\n",
      "\u001b[1m947/947\u001b[0m \u001b[32m━━━━━━━━━━━━━━━━━━━━\u001b[0m\u001b[37m\u001b[0m \u001b[1m1608s\u001b[0m 2s/step - accuracy: 0.7453 - loss: 4.7317 - val_accuracy: 0.8272 - val_loss: 1.4710\n",
      "Epoch 2/10\n",
      "\u001b[1m947/947\u001b[0m \u001b[32m━━━━━━━━━━━━━━━━━━━━\u001b[0m\u001b[37m\u001b[0m \u001b[1m1639s\u001b[0m 2s/step - accuracy: 0.8515 - loss: 1.2447 - val_accuracy: 0.9006 - val_loss: 0.9256\n",
      "Epoch 3/10\n",
      "\u001b[1m947/947\u001b[0m \u001b[32m━━━━━━━━━━━━━━━━━━━━\u001b[0m\u001b[37m\u001b[0m \u001b[1m1673s\u001b[0m 2s/step - accuracy: 0.9101 - loss: 0.7873 - val_accuracy: 0.9318 - val_loss: 0.7023\n",
      "Epoch 4/10\n",
      "\u001b[1m947/947\u001b[0m \u001b[32m━━━━━━━━━━━━━━━━━━━━\u001b[0m\u001b[37m\u001b[0m \u001b[1m1636s\u001b[0m 2s/step - accuracy: 0.9394 - loss: 0.5366 - val_accuracy: 0.9477 - val_loss: 0.5846\n",
      "Epoch 5/10\n",
      "\u001b[1m947/947\u001b[0m \u001b[32m━━━━━━━━━━━━━━━━━━━━\u001b[0m\u001b[37m\u001b[0m \u001b[1m1636s\u001b[0m 2s/step - accuracy: 0.9560 - loss: 0.3761 - val_accuracy: 0.9568 - val_loss: 0.5329\n",
      "Epoch 6/10\n",
      "\u001b[1m947/947\u001b[0m \u001b[32m━━━━━━━━━━━━━━━━━━━━\u001b[0m\u001b[37m\u001b[0m \u001b[1m1636s\u001b[0m 2s/step - accuracy: 0.9676 - loss: 0.2609 - val_accuracy: 0.9618 - val_loss: 0.5108\n",
      "Epoch 7/10\n",
      "\u001b[1m947/947\u001b[0m \u001b[32m━━━━━━━━━━━━━━━━━━━━\u001b[0m\u001b[37m\u001b[0m \u001b[1m1659s\u001b[0m 2s/step - accuracy: 0.9760 - loss: 0.1807 - val_accuracy: 0.9649 - val_loss: 0.5086\n",
      "Epoch 8/10\n",
      "\u001b[1m947/947\u001b[0m \u001b[32m━━━━━━━━━━━━━━━━━━━━\u001b[0m\u001b[37m\u001b[0m \u001b[1m1634s\u001b[0m 2s/step - accuracy: 0.9829 - loss: 0.1187 - val_accuracy: 0.9672 - val_loss: 0.5186\n",
      "Epoch 9/10\n",
      "\u001b[1m947/947\u001b[0m \u001b[32m━━━━━━━━━━━━━━━━━━━━\u001b[0m\u001b[37m\u001b[0m \u001b[1m1643s\u001b[0m 2s/step - accuracy: 0.9921 - loss: 0.0707 - val_accuracy: 0.9685 - val_loss: 0.5493\n",
      "Epoch 10/10\n",
      "\u001b[1m947/947\u001b[0m \u001b[32m━━━━━━━━━━━━━━━━━━━━\u001b[0m\u001b[37m\u001b[0m \u001b[1m1628s\u001b[0m 2s/step - accuracy: 0.9977 - loss: 0.0358 - val_accuracy: 0.9690 - val_loss: 0.5926\n"
     ]
    }
   ],
   "source": [
    "history = model.fit(\n",
    "    train_dataset,\n",
    "    validation_data=val_dataset,\n",
    "    epochs=10,\n",
    "    verbose=1\n",
    ")"
   ]
  },
  {
   "cell_type": "code",
   "execution_count": 17,
   "id": "7fb2b555",
   "metadata": {},
   "outputs": [
    {
     "name": "stdout",
     "output_type": "stream",
     "text": [
      "\u001b[1m200/200\u001b[0m \u001b[32m━━━━━━━━━━━━━━━━━━━━\u001b[0m\u001b[37m\u001b[0m \u001b[1m215s\u001b[0m 1s/step - accuracy: 0.9721 - loss: 0.5340\n"
     ]
    }
   ],
   "source": [
    "eval_loss, eval_acc = model.evaluate(val_dataset)"
   ]
  },
  {
   "cell_type": "code",
   "execution_count": null,
   "id": "36248f8a",
   "metadata": {},
   "outputs": [],
   "source": [
    "import matplotlib.pyplot as plt\n",
    "\n",
    "def plot_history(history, target_metric):\n",
    "    title = target_metric[0].upper() + target_metric[1:]\n",
    "    plt.figure(figsize=(10, 6))\n",
    "    plt.plot(history.history[target_metric], label=f'Train {title}')\n",
    "    plt.plot(history.history[f'val_{target_metric}'], label=f'Test {title}')\n",
    "    plt.xlabel('Epochs')\n",
    "    plt.ylabel(title)\n",
    "    plt.title(f'{title} Trajectory')\n",
    "    plt.legend()\n",
    "    plt.show()\n",
    "\n",
    "plot_history(history, 'accuracy')\n",
    "plot_history(history, 'loss')  "
   ]
  },
  {
   "cell_type": "code",
   "execution_count": null,
   "id": "30b43929",
   "metadata": {},
   "outputs": [],
   "source": [
    "sample_idx = 0\n",
    "src_sample = test_src[sample_idx:sample_idx+1]\n",
    "dec_in_sample= test_dec_in[sample_idx:sample_idx+1]\n",
    "true_token = test_dec_out[sample_idx, 0]\n",
    "\n",
    "base_pred = model.predict([src_sample, dec_in_sample])[0, 0, true_token]\n",
    "\n",
    "occlusion_scores = []\n",
    "for pos in range(MAX_SEQ_LEN):\n",
    "    masked = src_sample.copy()\n",
    "    masked[0, pos] = tokenizer.word_index['<unk>']\n",
    "    pred = model.predict([masked, dec_in_sample])[0, 0, true_token]\n",
    "    occlusion_scores.append(float(base_pred - pred))\n",
    "\n",
    "plt.figure(figsize=(10, 6))\n",
    "plt.bar(range(MAX_SEQ_LEN), occlusion_scores)\n",
    "plt.title(\"Occlusion importance (Prob of true token)\")\n",
    "plt.xlabel(\"Token position\")\n",
    "plt.ylabel(\"Probability\")\n",
    "plt.show()"
   ]
  }
 ],
 "metadata": {
  "kernelspec": {
   "display_name": "nb-env",
   "language": "python",
   "name": "python3"
  },
  "language_info": {
   "codemirror_mode": {
    "name": "ipython",
    "version": 3
   },
   "file_extension": ".py",
   "mimetype": "text/x-python",
   "name": "python",
   "nbconvert_exporter": "python",
   "pygments_lexer": "ipython3",
   "version": "3.10.18"
  }
 },
 "nbformat": 4,
 "nbformat_minor": 5
}
